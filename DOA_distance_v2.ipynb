{
 "cells": [
  {
   "cell_type": "code",
   "execution_count": 1,
   "id": "85aee483",
   "metadata": {},
   "outputs": [],
   "source": [
    "#import the library\n",
    "import numpy as np\n",
    "from scipy.signal import fftconvolve\n",
    "import matplotlib.pyplot as plt\n",
    "import pyroomacoustics as pra\n",
    "from pyroomacoustics.doa import circ_dist\n",
    "import math\n",
    "import os, csv\n",
    "import pandas as pd\n",
    "\n",
    "import warnings\n",
    "warnings.filterwarnings('ignore')"
   ]
  },
  {
   "cell_type": "code",
   "execution_count": 2,
   "id": "4547d2d7",
   "metadata": {},
   "outputs": [],
   "source": [
    "######\n",
    "# We define a meaningful distance measure on the circle\n",
    "# Location of original source\n",
    "azimuth = 61.0 / 180.0 * np.pi  # 60 degrees\n",
    "distance = 3.0  # 3 meters"
   ]
  },
  {
   "cell_type": "code",
   "execution_count": 3,
   "id": "6e90aa8a",
   "metadata": {},
   "outputs": [],
   "source": [
    "#######################\n",
    "# algorithms parameters\n",
    "SNR = 0.0  # signal-to-noise ratio\n",
    "c = 343.0  # speed of sound\n",
    "fs = 16000  # sampling frequency\n",
    "nfft = 256  # FFT size\n",
    "freq_bins = np.arange(5, 60)  # FFT bins to use for estimation"
   ]
  },
  {
   "cell_type": "code",
   "execution_count": 4,
   "id": "4cca28c1",
   "metadata": {},
   "outputs": [],
   "source": [
    "# compute the noise variance\n",
    "sigma2 = 10 ** (-SNR / 10) / (4.0 * np.pi * distance) ** 2"
   ]
  },
  {
   "cell_type": "code",
   "execution_count": 5,
   "id": "4a1447e9",
   "metadata": {},
   "outputs": [],
   "source": [
    "# Create an anechoic room\n",
    "def create_room(room_sizeX, room_sizeY, sound_source, mircophone_source):\n",
    "    room_dim = np.r_[room_sizeX, room_sizeY]\n",
    "    aroom = pra.ShoeBox(room_dim, fs=fs, max_order=0, sigma2_awgn=sigma2)\n",
    "    \n",
    "    # add the source\n",
    "    source_location = sound_source\n",
    "    source_signal = np.random.randn((nfft // 2 + 1) * nfft)\n",
    "    aroom.add_source(source_location, signal=source_signal)\n",
    "    \n",
    "    # We use a circular array with radius 15 cm # and 12 microphones\n",
    "    R = pra.circular_2D_array(mircophone_source, 12, 0.0, 0.15)\n",
    "    aroom.add_microphone_array(pra.MicrophoneArray(R, fs=aroom.fs))\n",
    "    \n",
    "    return aroom, R, source_location"
   ]
  },
  {
   "cell_type": "code",
   "execution_count": 6,
   "id": "a2af4a17",
   "metadata": {},
   "outputs": [],
   "source": [
    "degree_cal = []\n",
    "degree_error = []\n",
    "\n",
    "def stft_plot_cal(roomcal, R):\n",
    "    X = np.array(\n",
    "        [\n",
    "            pra.transform.stft.analysis(signal, nfft, nfft // 2).T\n",
    "            for signal in roomcal.mic_array.signals\n",
    "        ]\n",
    "    ) # Compute the STFT frames needed\n",
    "    \n",
    "    #algo calculate\n",
    "#     algo_names = sorted(pra.doa.algorithms.keys())\n",
    "    algo_names = ['CSSM']\n",
    "\n",
    "    for algo_name in algo_names:\n",
    "        # Construct the new DOA object\n",
    "        # the max_four parameter is necessary for FRIDA only\n",
    "        doa = pra.doa.algorithms[algo_name](R, fs, nfft, c=c, max_four=4)\n",
    "\n",
    "        # this call here perform localization on the frames in X\n",
    "        doa.locate_sources(X, freq_bins=freq_bins)\n",
    "\n",
    "#         doa.polar_plt_dirac()\n",
    "#         plt.title(algo_name)\n",
    "\n",
    "        # doa.azimuth_recon contains the reconstructed location of the source        \n",
    "        degree_cal = doa.azimuth_recon / np.pi * 180.0\n",
    "        degree_error = circ_dist(azimuth, doa.azimuth_recon)/ np.pi * 180.0\n",
    "        \n",
    "        print(degree_cal, degree_error)\n",
    "        \n",
    "    return degree_cal, degree_error\n",
    "\n",
    "#     plt.show()"
   ]
  },
  {
   "cell_type": "code",
   "execution_count": 7,
   "id": "4b7f266a",
   "metadata": {},
   "outputs": [],
   "source": [
    "# def slope_between(x1,y1,x2,y2):\n",
    "#     x = (y2 - y1) / (x2 - x1)\n",
    "#     return x\n",
    "\n",
    "# slope_value = slope_between(mircrophone_position1[0], mircrophone_position1[1], mircrophone_position2[0], mircrophone_position2[0])\n",
    "\n",
    "# print(f\"The slope between the cordinate {slope_value}\")\n"
   ]
  },
  {
   "cell_type": "code",
   "execution_count": 8,
   "id": "80448249",
   "metadata": {},
   "outputs": [],
   "source": [
    "mircrophone_position1 = [9, 6]\n",
    "mircrophone_position2 = [12, 8]"
   ]
  },
  {
   "cell_type": "code",
   "execution_count": 9,
   "id": "b733643c",
   "metadata": {},
   "outputs": [
    {
     "name": "stdout",
     "output_type": "stream",
     "text": [
      "Original location of sound source [30, 25] and location of microphone 1 [9, 6]\n",
      "Original location of sound source [30, 25] and location of microphone 2 [12, 8]\n"
     ]
    },
    {
     "data": {
      "image/png": "[encoded data removed]",
      "text/plain": [
       "<Figure size 432x288 with 1 Axes>"
      ]
     },
     "metadata": {
      "needs_background": "light"
     },
     "output_type": "display_data"
    },
    {
     "data": {
      "image/png": "[encoded data removed]",
      "text/plain": [
       "<Figure size 432x288 with 1 Axes>"
      ]
     },
     "metadata": {
      "needs_background": "light"
     },
     "output_type": "display_data"
    }
   ],
   "source": [
    "#add sound source position\n",
    "sound_position_new = [30, 25]\n",
    "\n",
    "#room dimension\n",
    "xRoom_new = 40.0\n",
    "xRoom_new = 40.0\n",
    "\n",
    "room1_new, R1_new, source_location1_new = create_room(xRoom_new, xRoom_new, sound_position_new, mircrophone_position1)\n",
    "room1_new.simulate()\n",
    "\n",
    "print(f\"Original location of sound source {source_location1_new} and location of microphone 1 {mircrophone_position1}\")\n",
    "\n",
    "room2_new, R2_new, source_location2_new = create_room(xRoom_new, xRoom_new, sound_position_new, mircrophone_position2)\n",
    "room2_new.simulate()\n",
    "\n",
    "print(f\"Original location of sound source {source_location2_new} and location of microphone 2 {mircrophone_position2}\")\n",
    "\n",
    "fig, ax = room1_new.plot()\n",
    "\n",
    "\n",
    "fig, ax = room2_new.plot()"
   ]
  },
  {
   "cell_type": "code",
   "execution_count": 10,
   "id": "2c9d40c7",
   "metadata": {},
   "outputs": [
    {
     "name": "stdout",
     "output_type": "stream",
     "text": [
      "[42.] [19.]\n"
     ]
    }
   ],
   "source": [
    "first_degree1_new, first_error1_new = stft_plot_cal(room1_new, R1_new)\n",
    "\n",
    "if first_degree1_new > 90:\n",
    "    print(360 - first_degree1_new)"
   ]
  },
  {
   "cell_type": "code",
   "execution_count": 11,
   "id": "a3902e1c",
   "metadata": {},
   "outputs": [
    {
     "name": "stdout",
     "output_type": "stream",
     "text": [
      "[43.] [18.]\n"
     ]
    }
   ],
   "source": [
    "first_degree2_new, first_error2_new = stft_plot_cal(room2_new, R2_new)\n",
    "if first_degree2_new > 90:\n",
    "    print(360 - first_degree2_new)"
   ]
  },
  {
   "cell_type": "code",
   "execution_count": 12,
   "id": "ede7c5f8",
   "metadata": {},
   "outputs": [
    {
     "name": "stdout",
     "output_type": "stream",
     "text": [
      "This distance between point is 3.605551275463989\n"
     ]
    }
   ],
   "source": [
    "dist = math.sqrt((mircrophone_position1[0] - mircrophone_position2[0])**2 + (mircrophone_position1[1] - mircrophone_position2[1])**2)\n",
    "\n",
    "print(f\"This distance between point is {dist}\")"
   ]
  },
  {
   "cell_type": "code",
   "execution_count": 13,
   "id": "645c30c0",
   "metadata": {},
   "outputs": [
    {
     "data": {
      "text/html": [
       "<div>\n",
       "<style scoped>\n",
       "    .dataframe tbody tr th:only-of-type {\n",
       "        vertical-align: middle;\n",
       "    }\n",
       "\n",
       "    .dataframe tbody tr th {\n",
       "        vertical-align: top;\n",
       "    }\n",
       "\n",
       "    .dataframe thead th {\n",
       "        text-align: right;\n",
       "    }\n",
       "</style>\n",
       "<table border=\"1\" class=\"dataframe\">\n",
       "  <thead>\n",
       "    <tr style=\"text-align: right;\">\n",
       "      <th></th>\n",
       "      <th>Cordinate A1</th>\n",
       "      <th>Cordinate A2</th>\n",
       "      <th>Cordinate B1</th>\n",
       "      <th>Cordinate B2</th>\n",
       "      <th>Distance Between microphone A and B</th>\n",
       "      <th>Actual X-value</th>\n",
       "      <th>Actual Y-value</th>\n",
       "    </tr>\n",
       "  </thead>\n",
       "  <tbody>\n",
       "    <tr>\n",
       "      <th>0</th>\n",
       "      <td>2</td>\n",
       "      <td>2</td>\n",
       "      <td>3</td>\n",
       "      <td>6</td>\n",
       "      <td>4.123</td>\n",
       "      <td>5.0</td>\n",
       "      <td>5.0</td>\n",
       "    </tr>\n",
       "    <tr>\n",
       "      <th>1</th>\n",
       "      <td>2</td>\n",
       "      <td>2</td>\n",
       "      <td>3</td>\n",
       "      <td>6</td>\n",
       "      <td>4.123</td>\n",
       "      <td>8.3</td>\n",
       "      <td>8.4</td>\n",
       "    </tr>\n",
       "    <tr>\n",
       "      <th>2</th>\n",
       "      <td>2</td>\n",
       "      <td>2</td>\n",
       "      <td>3</td>\n",
       "      <td>6</td>\n",
       "      <td>4.123</td>\n",
       "      <td>8.0</td>\n",
       "      <td>1.0</td>\n",
       "    </tr>\n",
       "    <tr>\n",
       "      <th>3</th>\n",
       "      <td>2</td>\n",
       "      <td>2</td>\n",
       "      <td>3</td>\n",
       "      <td>6</td>\n",
       "      <td>4.123</td>\n",
       "      <td>5.0</td>\n",
       "      <td>7.0</td>\n",
       "    </tr>\n",
       "    <tr>\n",
       "      <th>4</th>\n",
       "      <td>2</td>\n",
       "      <td>2</td>\n",
       "      <td>3</td>\n",
       "      <td>6</td>\n",
       "      <td>4.123</td>\n",
       "      <td>10.0</td>\n",
       "      <td>8.0</td>\n",
       "    </tr>\n",
       "  </tbody>\n",
       "</table>\n",
       "</div>"
      ],
      "text/plain": [
       "   Cordinate A1  Cordinate A2  Cordinate B1  Cordinate B2  \\\n",
       "0             2             2             3             6   \n",
       "1             2             2             3             6   \n",
       "2             2             2             3             6   \n",
       "3             2             2             3             6   \n",
       "4             2             2             3             6   \n",
       "\n",
       "   Distance Between microphone A and B  Actual X-value  Actual Y-value  \n",
       "0                                4.123             5.0             5.0  \n",
       "1                                4.123             8.3             8.4  \n",
       "2                                4.123             8.0             1.0  \n",
       "3                                4.123             5.0             7.0  \n",
       "4                                4.123            10.0             8.0  "
      ]
     },
     "execution_count": 13,
     "metadata": {},
     "output_type": "execute_result"
    }
   ],
   "source": [
    "#import csv file and read it \n",
    "\n",
    "metadata_path='metadata/'\n",
    "metadata = pd.read_csv(metadata_path + 'location_cordinate.csv')\n",
    "metadata.head()"
   ]
  },
  {
   "cell_type": "code",
   "execution_count": 17,
   "id": "90c2d542",
   "metadata": {},
   "outputs": [
    {
     "name": "stdout",
     "output_type": "stream",
     "text": [
      "Original location of sound source [5.0, 5.0] and location of microphone 1 [2.0, 2.0]\n",
      "Original location of sound source [5.0, 5.0] and location of microphone 2 [3.0, 6.0]\n",
      "[45.] [16.]\n",
      "[333.] [88.]\n",
      "Original location of sound source [8.3, 8.4] and location of microphone 1 [2.0, 2.0]\n",
      "Original location of sound source [8.3, 8.4] and location of microphone 2 [3.0, 6.0]\n",
      "[45.] [16.]\n",
      "[24.] [37.]\n",
      "Original location of sound source [8.0, 1.0] and location of microphone 1 [2.0, 2.0]\n",
      "Original location of sound source [8.0, 1.0] and location of microphone 2 [3.0, 6.0]\n",
      "[351.] [70.]\n",
      "[315.] [106.]\n",
      "Original location of sound source [5.0, 7.0] and location of microphone 1 [2.0, 2.0]\n",
      "Original location of sound source [5.0, 7.0] and location of microphone 2 [3.0, 6.0]\n",
      "[59.] [2.]\n",
      "[27.] [34.]\n",
      "Original location of sound source [10.0, 8.0] and location of microphone 1 [2.0, 2.0]\n",
      "Original location of sound source [10.0, 8.0] and location of microphone 2 [3.0, 6.0]\n",
      "[37.] [24.]\n",
      "[16.] [45.]\n",
      "Original location of sound source [14.0, 5.0] and location of microphone 1 [2.0, 2.0]\n",
      "Original location of sound source [14.0, 5.0] and location of microphone 2 [3.0, 6.0]\n",
      "[14.] [47.]\n",
      "[355.] [66.]\n",
      "Original location of sound source [9.0, 4.0] and location of microphone 1 [2.0, 2.0]\n",
      "Original location of sound source [9.0, 4.0] and location of microphone 2 [3.0, 6.0]\n"
     ]
    },
    {
     "ename": "KeyboardInterrupt",
     "evalue": "",
     "output_type": "error",
     "traceback": [
      "\u001b[0;31m---------------------------------------------------------------------------\u001b[0m",
      "\u001b[0;31mKeyboardInterrupt\u001b[0m                         Traceback (most recent call last)",
      "\u001b[0;32m/var/folders/m8/ss8240rn1_n5_crd6h3q40zc0000gn/T/ipykernel_26842/1804616506.py\u001b[0m in \u001b[0;36m<module>\u001b[0;34m\u001b[0m\n\u001b[1;32m     32\u001b[0m     \u001b[0mfig\u001b[0m\u001b[0;34m,\u001b[0m \u001b[0max\u001b[0m \u001b[0;34m=\u001b[0m \u001b[0mroom2_new\u001b[0m\u001b[0;34m.\u001b[0m\u001b[0mplot\u001b[0m\u001b[0;34m(\u001b[0m\u001b[0;34m)\u001b[0m\u001b[0;34m\u001b[0m\u001b[0;34m\u001b[0m\u001b[0m\n\u001b[1;32m     33\u001b[0m \u001b[0;34m\u001b[0m\u001b[0m\n\u001b[0;32m---> 34\u001b[0;31m     \u001b[0mfirst_degree1_new\u001b[0m\u001b[0;34m,\u001b[0m \u001b[0mfirst_error1_new\u001b[0m \u001b[0;34m=\u001b[0m \u001b[0mstft_plot_cal\u001b[0m\u001b[0;34m(\u001b[0m\u001b[0mroom1_new\u001b[0m\u001b[0;34m,\u001b[0m \u001b[0mR1_new\u001b[0m\u001b[0;34m)\u001b[0m\u001b[0;34m\u001b[0m\u001b[0;34m\u001b[0m\u001b[0m\n\u001b[0m\u001b[1;32m     35\u001b[0m \u001b[0;34m\u001b[0m\u001b[0m\n\u001b[1;32m     36\u001b[0m     \u001b[0mfirst_degree2_new\u001b[0m\u001b[0;34m,\u001b[0m \u001b[0mfirst_error2_new\u001b[0m \u001b[0;34m=\u001b[0m \u001b[0mstft_plot_cal\u001b[0m\u001b[0;34m(\u001b[0m\u001b[0mroom2_new\u001b[0m\u001b[0;34m,\u001b[0m \u001b[0mR2_new\u001b[0m\u001b[0;34m)\u001b[0m\u001b[0;34m\u001b[0m\u001b[0;34m\u001b[0m\u001b[0m\n",
      "\u001b[0;32m/var/folders/m8/ss8240rn1_n5_crd6h3q40zc0000gn/T/ipykernel_26842/4140753552.py\u001b[0m in \u001b[0;36mstft_plot_cal\u001b[0;34m(roomcal, R)\u001b[0m\n\u001b[1;32m     20\u001b[0m \u001b[0;34m\u001b[0m\u001b[0m\n\u001b[1;32m     21\u001b[0m         \u001b[0;31m# this call here perform localization on the frames in X\u001b[0m\u001b[0;34m\u001b[0m\u001b[0;34m\u001b[0m\u001b[0m\n\u001b[0;32m---> 22\u001b[0;31m         \u001b[0mdoa\u001b[0m\u001b[0;34m.\u001b[0m\u001b[0mlocate_sources\u001b[0m\u001b[0;34m(\u001b[0m\u001b[0mX\u001b[0m\u001b[0;34m,\u001b[0m \u001b[0mfreq_bins\u001b[0m\u001b[0;34m=\u001b[0m\u001b[0mfreq_bins\u001b[0m\u001b[0;34m)\u001b[0m\u001b[0;34m\u001b[0m\u001b[0;34m\u001b[0m\u001b[0m\n\u001b[0m\u001b[1;32m     23\u001b[0m \u001b[0;34m\u001b[0m\u001b[0m\n\u001b[1;32m     24\u001b[0m \u001b[0;31m#         doa.polar_plt_dirac()\u001b[0m\u001b[0;34m\u001b[0m\u001b[0;34m\u001b[0m\u001b[0m\n",
      "\u001b[0;32m~/opt/anaconda3/lib/python3.9/site-packages/pyroomacoustics/doa/doa.py\u001b[0m in \u001b[0;36mlocate_sources\u001b[0;34m(self, X, num_src, freq_range, freq_bins, freq_hz)\u001b[0m\n\u001b[1;32m    362\u001b[0m \u001b[0;34m\u001b[0m\u001b[0m\n\u001b[1;32m    363\u001b[0m         \u001b[0;31m# Run the algorithm\u001b[0m\u001b[0;34m\u001b[0m\u001b[0;34m\u001b[0m\u001b[0m\n\u001b[0;32m--> 364\u001b[0;31m         \u001b[0mself\u001b[0m\u001b[0;34m.\u001b[0m\u001b[0m_process\u001b[0m\u001b[0;34m(\u001b[0m\u001b[0mX\u001b[0m\u001b[0;34m)\u001b[0m\u001b[0;34m\u001b[0m\u001b[0;34m\u001b[0m\u001b[0m\n\u001b[0m\u001b[1;32m    365\u001b[0m \u001b[0;34m\u001b[0m\u001b[0m\n\u001b[1;32m    366\u001b[0m         \u001b[0;31m# locate sources\u001b[0m\u001b[0;34m\u001b[0m\u001b[0;34m\u001b[0m\u001b[0m\n",
      "\u001b[0;32m~/opt/anaconda3/lib/python3.9/site-packages/pyroomacoustics/doa/cssm.py\u001b[0m in \u001b[0;36m_process\u001b[0;34m(self, X)\u001b[0m\n\u001b[1;32m     72\u001b[0m         \u001b[0;32mfor\u001b[0m \u001b[0mk\u001b[0m \u001b[0;32min\u001b[0m \u001b[0mrange\u001b[0m\u001b[0;34m(\u001b[0m\u001b[0mself\u001b[0m\u001b[0;34m.\u001b[0m\u001b[0mnum_freq\u001b[0m\u001b[0;34m)\u001b[0m\u001b[0;34m:\u001b[0m\u001b[0;34m\u001b[0m\u001b[0;34m\u001b[0m\u001b[0m\n\u001b[1;32m     73\u001b[0m \u001b[0;34m\u001b[0m\u001b[0m\n\u001b[0;32m---> 74\u001b[0;31m             self.grid.set_values(1 / self._compute_spatial_spectrum(C_hat[k,:,:],\n\u001b[0m\u001b[1;32m     75\u001b[0m                                  self.freq_bins[k]))\n\u001b[1;32m     76\u001b[0m             \u001b[0midx\u001b[0m \u001b[0;34m=\u001b[0m \u001b[0mself\u001b[0m\u001b[0;34m.\u001b[0m\u001b[0mgrid\u001b[0m\u001b[0;34m.\u001b[0m\u001b[0mfind_peaks\u001b[0m\u001b[0;34m(\u001b[0m\u001b[0mk\u001b[0m\u001b[0;34m=\u001b[0m\u001b[0mself\u001b[0m\u001b[0;34m.\u001b[0m\u001b[0mnum_src\u001b[0m\u001b[0;34m)\u001b[0m\u001b[0;34m\u001b[0m\u001b[0;34m\u001b[0m\u001b[0m\n",
      "\u001b[0;32m~/opt/anaconda3/lib/python3.9/site-packages/pyroomacoustics/doa/music.py\u001b[0m in \u001b[0;36m_compute_spatial_spectrum\u001b[0;34m(self, cross, k)\u001b[0m\n\u001b[1;32m    140\u001b[0m         \u001b[0;32mfor\u001b[0m \u001b[0mn\u001b[0m \u001b[0;32min\u001b[0m \u001b[0mrange\u001b[0m\u001b[0;34m(\u001b[0m\u001b[0mself\u001b[0m\u001b[0;34m.\u001b[0m\u001b[0mgrid\u001b[0m\u001b[0;34m.\u001b[0m\u001b[0mn_points\u001b[0m\u001b[0;34m)\u001b[0m\u001b[0;34m:\u001b[0m\u001b[0;34m\u001b[0m\u001b[0;34m\u001b[0m\u001b[0m\n\u001b[1;32m    141\u001b[0m             \u001b[0mDc\u001b[0m \u001b[0;34m=\u001b[0m \u001b[0mnp\u001b[0m\u001b[0;34m.\u001b[0m\u001b[0marray\u001b[0m\u001b[0;34m(\u001b[0m\u001b[0mself\u001b[0m\u001b[0;34m.\u001b[0m\u001b[0mmode_vec\u001b[0m\u001b[0;34m[\u001b[0m\u001b[0mk\u001b[0m\u001b[0;34m,\u001b[0m \u001b[0;34m:\u001b[0m\u001b[0;34m,\u001b[0m \u001b[0mn\u001b[0m\u001b[0;34m]\u001b[0m\u001b[0;34m,\u001b[0m \u001b[0mndmin\u001b[0m\u001b[0;34m=\u001b[0m\u001b[0;36m2\u001b[0m\u001b[0;34m)\u001b[0m\u001b[0;34m.\u001b[0m\u001b[0mT\u001b[0m\u001b[0;34m\u001b[0m\u001b[0;34m\u001b[0m\u001b[0m\n\u001b[0;32m--> 142\u001b[0;31m             \u001b[0mDc_H\u001b[0m \u001b[0;34m=\u001b[0m \u001b[0mnp\u001b[0m\u001b[0;34m.\u001b[0m\u001b[0mconjugate\u001b[0m\u001b[0;34m(\u001b[0m\u001b[0mnp\u001b[0m\u001b[0;34m.\u001b[0m\u001b[0marray\u001b[0m\u001b[0;34m(\u001b[0m\u001b[0mself\u001b[0m\u001b[0;34m.\u001b[0m\u001b[0mmode_vec\u001b[0m\u001b[0;34m[\u001b[0m\u001b[0mk\u001b[0m\u001b[0;34m,\u001b[0m \u001b[0;34m:\u001b[0m\u001b[0;34m,\u001b[0m \u001b[0mn\u001b[0m\u001b[0;34m]\u001b[0m\u001b[0;34m,\u001b[0m \u001b[0mndmin\u001b[0m\u001b[0;34m=\u001b[0m\u001b[0;36m2\u001b[0m\u001b[0;34m)\u001b[0m\u001b[0;34m)\u001b[0m\u001b[0;34m\u001b[0m\u001b[0;34m\u001b[0m\u001b[0m\n\u001b[0m\u001b[1;32m    143\u001b[0m             \u001b[0mdenom\u001b[0m \u001b[0;34m=\u001b[0m \u001b[0mnp\u001b[0m\u001b[0;34m.\u001b[0m\u001b[0mdot\u001b[0m\u001b[0;34m(\u001b[0m\u001b[0mnp\u001b[0m\u001b[0;34m.\u001b[0m\u001b[0mdot\u001b[0m\u001b[0;34m(\u001b[0m\u001b[0mDc_H\u001b[0m\u001b[0;34m,\u001b[0m \u001b[0mcross\u001b[0m\u001b[0;34m)\u001b[0m\u001b[0;34m,\u001b[0m \u001b[0mDc\u001b[0m\u001b[0;34m)\u001b[0m\u001b[0;34m\u001b[0m\u001b[0;34m\u001b[0m\u001b[0m\n\u001b[1;32m    144\u001b[0m             \u001b[0mP\u001b[0m\u001b[0;34m[\u001b[0m\u001b[0mn\u001b[0m\u001b[0;34m]\u001b[0m \u001b[0;34m=\u001b[0m \u001b[0;36m1\u001b[0m \u001b[0;34m/\u001b[0m \u001b[0mabs\u001b[0m\u001b[0;34m(\u001b[0m\u001b[0mdenom\u001b[0m\u001b[0;34m)\u001b[0m\u001b[0;34m\u001b[0m\u001b[0;34m\u001b[0m\u001b[0m\n",
      "\u001b[0;32m~/opt/anaconda3/lib/python3.9/site-packages/pyroomacoustics/doa/doa.py\u001b[0m in \u001b[0;36m__getitem__\u001b[0;34m(self, ref)\u001b[0m\n\u001b[1;32m    118\u001b[0m             \u001b[0mw\u001b[0m \u001b[0;34m=\u001b[0m \u001b[0mself\u001b[0m\u001b[0;34m.\u001b[0m\u001b[0momega\u001b[0m\u001b[0;34m[\u001b[0m\u001b[0mref\u001b[0m\u001b[0;34m[\u001b[0m\u001b[0;36m0\u001b[0m\u001b[0;34m]\u001b[0m\u001b[0;34m]\u001b[0m\u001b[0;34m\u001b[0m\u001b[0;34m\u001b[0m\u001b[0m\n\u001b[1;32m    119\u001b[0m         \u001b[0;32melif\u001b[0m \u001b[0misinstance\u001b[0m\u001b[0;34m(\u001b[0m\u001b[0mref\u001b[0m\u001b[0;34m[\u001b[0m\u001b[0;36m1\u001b[0m\u001b[0;34m]\u001b[0m\u001b[0;34m,\u001b[0m \u001b[0minteger\u001b[0m\u001b[0;34m)\u001b[0m \u001b[0;32mor\u001b[0m \u001b[0misinstance\u001b[0m\u001b[0;34m(\u001b[0m\u001b[0mref\u001b[0m\u001b[0;34m[\u001b[0m\u001b[0;36m2\u001b[0m\u001b[0;34m]\u001b[0m\u001b[0;34m,\u001b[0m \u001b[0minteger\u001b[0m\u001b[0;34m)\u001b[0m\u001b[0;34m:\u001b[0m\u001b[0;34m\u001b[0m\u001b[0;34m\u001b[0m\u001b[0m\n\u001b[0;32m--> 120\u001b[0;31m             \u001b[0mw\u001b[0m \u001b[0;34m=\u001b[0m \u001b[0mself\u001b[0m\u001b[0;34m.\u001b[0m\u001b[0momega\u001b[0m\u001b[0;34m[\u001b[0m\u001b[0mref\u001b[0m\u001b[0;34m[\u001b[0m\u001b[0;36m0\u001b[0m\u001b[0;34m]\u001b[0m\u001b[0;34m,\u001b[0m \u001b[0;32mNone\u001b[0m\u001b[0;34m]\u001b[0m\u001b[0;34m\u001b[0m\u001b[0;34m\u001b[0m\u001b[0m\n\u001b[0m\u001b[1;32m    121\u001b[0m         \u001b[0;32melse\u001b[0m\u001b[0;34m:\u001b[0m\u001b[0;34m\u001b[0m\u001b[0;34m\u001b[0m\u001b[0m\n\u001b[1;32m    122\u001b[0m             \u001b[0mw\u001b[0m \u001b[0;34m=\u001b[0m \u001b[0mself\u001b[0m\u001b[0;34m.\u001b[0m\u001b[0momega\u001b[0m\u001b[0;34m[\u001b[0m\u001b[0mref\u001b[0m\u001b[0;34m[\u001b[0m\u001b[0;36m0\u001b[0m\u001b[0;34m]\u001b[0m\u001b[0;34m,\u001b[0m \u001b[0;32mNone\u001b[0m\u001b[0;34m,\u001b[0m \u001b[0;32mNone\u001b[0m\u001b[0;34m]\u001b[0m\u001b[0;34m\u001b[0m\u001b[0;34m\u001b[0m\u001b[0m\n",
      "\u001b[0;31mKeyboardInterrupt\u001b[0m: "
     ]
    },
    {
     "data": {
      "image/png": "[encoded data removed]",
      "text/plain": [
       "<Figure size 432x288 with 1 Axes>"
      ]
     },
     "metadata": {
      "needs_background": "light"
     },
     "output_type": "display_data"
    },
    {
     "data": {
      "image/png": "[encoded data removed]",
      "text/plain": [
       "<Figure size 432x288 with 1 Axes>"
      ]
     },
     "metadata": {
      "needs_background": "light"
     },
     "output_type": "display_data"
    },
    {
     "data": {
      "image/png": "[encoded data removed]",
      "text/plain": [
       "<Figure size 432x288 with 1 Axes>"
      ]
     },
     "metadata": {
      "needs_background": "light"
     },
     "output_type": "display_data"
    },
    {
     "data": {
      "image/png": "[encoded data removed]",
      "text/plain": [
       "<Figure size 432x288 with 1 Axes>"
      ]
     },
     "metadata": {
      "needs_background": "light"
     },
     "output_type": "display_data"
    },
    {
     "data": {
      "image/png": "[encoded data removed]",
      "text/plain": [
       "<Figure size 432x288 with 1 Axes>"
      ]
     },
     "metadata": {
      "needs_background": "light"
     },
     "output_type": "display_data"
    },
    {
     "data": {
      "image/png": "[encoded data removed]",
      "text/plain": [
       "<Figure size 432x288 with 1 Axes>"
      ]
     },
     "metadata": {
      "needs_background": "light"
     },
     "output_type": "display_data"
    },
    {
     "data": {
      "image/png": "[encoded data removed]",
      "text/plain": [
       "<Figure size 432x288 with 1 Axes>"
      ]
     },
     "metadata": {
      "needs_background": "light"
     },
     "output_type": "display_data"
    },
    {
     "data": {
      "image/png": "[encoded data removed]",
      "text/plain": [
       "<Figure size 432x288 with 1 Axes>"
      ]
     },
     "metadata": {
      "needs_background": "light"
     },
     "output_type": "display_data"
    },
    {
     "data": {
      "image/png": "[encoded data removed]",
      "text/plain": [
       "<Figure size 432x288 with 1 Axes>"
      ]
     },
     "metadata": {
      "needs_background": "light"
     },
     "output_type": "display_data"
    },
    {
     "data": {
      "image/png": "[encoded data removed]",
      "text/plain": [
       "<Figure size 432x288 with 1 Axes>"
      ]
     },
     "metadata": {
      "needs_background": "light"
     },
     "output_type": "display_data"
    },
    {
     "data": {
      "image/png": "[encoded data removed]",
      "text/plain": [
       "<Figure size 432x288 with 1 Axes>"
      ]
     },
     "metadata": {
      "needs_background": "light"
     },
     "output_type": "display_data"
    },
    {
     "data": {
      "image/png": "[encoded data removed]",
      "text/plain": [
       "<Figure size 432x288 with 1 Axes>"
      ]
     },
     "metadata": {
      "needs_background": "light"
     },
     "output_type": "display_data"
    },
    {
     "data": {
      "image/png": "[encoded data removed]",
      "text/plain": [
       "<Figure size 432x288 with 1 Axes>"
      ]
     },
     "metadata": {
      "needs_background": "light"
     },
     "output_type": "display_data"
    },
    {
     "data": {
      "image/png": "[encoded data removed]",
      "text/plain": [
       "<Figure size 432x288 with 1 Axes>"
      ]
     },
     "metadata": {
      "needs_background": "light"
     },
     "output_type": "display_data"
    }
   ],
   "source": [
    "first_degree1_  = [] \n",
    "first_error1_  = [] \n",
    "first_degree2_  = [] \n",
    "first_error2_  = [] \n",
    "    \n",
    "for index, row in metadata.iterrows():\n",
    "\n",
    "    #add microphone position\n",
    "    mircrophone_position1 = [row[\"Cordinate A1\"], row[\"Cordinate A2\"]]\n",
    "    mircrophone_position2 = [row[\"Cordinate B1\"], row[\"Cordinate B2\"]]\n",
    "\n",
    "    #add sound source position\n",
    "    sound_position_new = [row[\"Actual X-value\"], row[\"Actual Y-value\"]]\n",
    "\n",
    "    #room dimension\n",
    "    xRoom_new = 40.0\n",
    "    xRoom_new = 40.0\n",
    "\n",
    "    room1_new, R1_new, source_location1_new = create_room(xRoom_new, xRoom_new, sound_position_new, mircrophone_position1)\n",
    "    room1_new.simulate()\n",
    "\n",
    "    print(f\"Original location of sound source {source_location1_new} and location of microphone 1 {mircrophone_position1}\")\n",
    "\n",
    "    room2_new, R2_new, source_location2_new = create_room(xRoom_new, xRoom_new, sound_position_new, mircrophone_position2)\n",
    "    room2_new.simulate()\n",
    "\n",
    "    print(f\"Original location of sound source {source_location2_new} and location of microphone 2 {mircrophone_position2}\")\n",
    "\n",
    "    fig, ax = room1_new.plot()\n",
    "\n",
    "\n",
    "    fig, ax = room2_new.plot()\n",
    "    \n",
    "    first_degree1_new, first_error1_new = stft_plot_cal(room1_new, R1_new)\n",
    "    \n",
    "    first_degree2_new, first_error2_new = stft_plot_cal(room2_new, R2_new)\n",
    "        \n",
    "    first_degree1_.append(first_degree1_new[0])\n",
    "    first_error1_.append(first_error1_new[0])\n",
    "    first_degree2_.append(first_degree2_new[0])\n",
    "    first_error2_.append(first_error2_new[0])\n",
    "    \n"
   ]
  },
  {
   "cell_type": "code",
   "execution_count": 15,
   "id": "37469c66",
   "metadata": {},
   "outputs": [
    {
     "name": "stdout",
     "output_type": "stream",
     "text": [
      "[45.0, 45.0, 351.0, 59.00000000000001, 37.0, 14.0, 16.0, 356.0, 353.0, 5.0, 51.0, 73.0, 38.00000000000001, 107.0, 15.0, 99.00000000000001, 281.00000000000006, 18.0, 62.0, 32.0, 346.0, 108.0, 334.0, 17.000000000000004, 59.00000000000001, 48.0, 65.0, 82.0, 72.0, 171.0, 81.0, 59.00000000000001, 33.0, 20.0, 56.0, 302.0, 342.0, 101.0, 80.0, 83.0, 354.0, 99.00000000000001, 51.0, 25.0, 60.99999999999999, 72.0, 48.0, 38.99999999999999, 45.0, 25.0, 355.0, 0.0, 65.0, 9.0, 43.0, 20.0, 14.0, 348.0, 76.00000000000001, 62.99999999999999, 43.0, 43.0, 0.0, 15.0, 113.0, 60.0, 0.0, 77.0, 51.0, 121.00000000000001, 84.0, 198.00000000000003, 54.0, 3.0, 206.99999999999997, 55.00000000000001, 34.00000000000001, 228.00000000000003, 22.0, 62.0, 356.0, 5.0, 230.99999999999997, 6.0, 34.00000000000001, 69.0, 103.00000000000001, 51.0, 104.00000000000001, 38.99999999999999, 60.0, 326.00000000000006, 356.99999999999994, 15.0, 45.0, 0.0, 120.0, 315.0, 87.0]\n",
      "[333.0, 24.0, 315.0, 27.0, 16.0, 355.0, 342.0, 342.0, 333.0, 29.000000000000004, 60.99999999999999, 74.0, 43.0, 101.0, 8.0, 125.99999999999999, 354.0, 23.0, 37.0, 38.99999999999999, 7.0, 101.0, 333.0, 0.0, 54.0, 47.0, 54.0, 191.0, 65.0, 110.00000000000001, 118.00000000000001, 71.0, 19.000000000000004, 32.0, 30.0, 340.00000000000006, 41.0, 117.0, 77.99999999999999, 77.0, 0.0, 85.00000000000001, 76.00000000000001, 3.0, 77.99999999999999, 69.0, 60.0, 62.99999999999999, 53.0, 22.0, 9.0, 56.0, 96.0, 356.0, 32.0, 21.0, 38.00000000000001, 3.0, 65.0, 104.00000000000001, 46.0, 47.0, 80.0, 20.0, 135.0, 80.0, 323.0, 80.0, 34.00000000000001, 155.99999999999997, 74.0, 180.0, 60.0, 7.0, 186.00000000000003, 58.00000000000001, 28.0, 261.0, 43.0, 57.00000000000001, 347.0, 10.0, 219.00000000000003, 0.0, 34.00000000000001, 62.0, 83.0, 68.00000000000001, 86.0, 53.0, 56.0, 19.000000000000004, 346.0, 337.0, 55.00000000000001, 66.0, 87.0, 336.0, 113.0]\n"
     ]
    }
   ],
   "source": [
    "print(first_degree1_)\n",
    "print(first_degree2_)"
   ]
  },
  {
   "cell_type": "code",
   "execution_count": 16,
   "id": "7c2d2261",
   "metadata": {},
   "outputs": [],
   "source": [
    "# open the file in the write mode\n",
    "with open('metadata/result.csv', 'w') as f:\n",
    "    # create the csv writer\n",
    "    writer = csv.writer(f)\n",
    "\n",
    "    # write a row to the csv file\n",
    "    writer.writerow(first_degree2_)\n",
    "    \n",
    "    \n",
    "    \n",
    "\n",
    "#     if first_degree1_new > 90:\n",
    "#         print(360 - first_degree1_new)\n",
    "        \n",
    "#     if first_degree2_new > 90:\n",
    "#         print(360 - first_degree2_new)\n"
   ]
  },
  {
   "cell_type": "code",
   "execution_count": null,
   "id": "71d47f84",
   "metadata": {},
   "outputs": [],
   "source": []
  }
 ],
 "metadata": {
  "kernelspec": {
   "display_name": "Python 3 (ipykernel)",
   "language": "python",
   "name": "python3"
  },
  "language_info": {
   "codemirror_mode": {
    "name": "ipython",
    "version": 3
   },
   "file_extension": ".py",
   "mimetype": "text/x-python",
   "name": "python",
   "nbconvert_exporter": "python",
   "pygments_lexer": "ipython3",
   "version": "3.9.7"
  }
 },
 "nbformat": 4,
 "nbformat_minor": 5
}
